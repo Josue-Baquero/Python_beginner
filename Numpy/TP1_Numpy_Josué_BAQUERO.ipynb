{
 "cells": [
  {
   "cell_type": "markdown",
   "id": "e7aec567",
   "metadata": {},
   "source": [
    "TP1 - Numpy - Josué BAQUERO"
   ]
  },
  {
   "cell_type": "markdown",
   "id": "58a4d4d9",
   "metadata": {},
   "source": [
    "On importe la bibliothèque numpy:"
   ]
  },
  {
   "cell_type": "code",
   "execution_count": 1,
   "id": "ad9dde0d",
   "metadata": {},
   "outputs": [],
   "source": [
    "import numpy as np"
   ]
  },
  {
   "cell_type": "markdown",
   "id": "07948ff0",
   "metadata": {},
   "source": [
    "Fonction qui réalise une seule marche aléatoire 1D en fonction de p et N (sans boucle):"
   ]
  },
  {
   "cell_type": "code",
   "execution_count": 2,
   "id": "325269c1",
   "metadata": {},
   "outputs": [],
   "source": [
    "def single_random_walk(p, N):\n",
    "    \"\"\"\n",
    "    Réalise une seule marche aléatoire 1D\n",
    "    \n",
    "    Paramètres:\n",
    "    p (float): probabilité de faire un pas +1 (0 <= p <= 1)\n",
    "    N (int): nombre de pas\n",
    "    \n",
    "    Returns:\n",
    "    int: position finale après N pas\n",
    "    \"\"\"\n",
    "    # Génère N nombres aléatoires entre 0 et 1\n",
    "    random_numbers = np.random.random(N)\n",
    "    \n",
    "    # Convertit en pas +1 ou -1 selon la probabilité p\n",
    "    steps = np.where(random_numbers < p, 1, -1)\n",
    "    \n",
    "    # Retourne la somme des pas (position finale)\n",
    "    return np.sum(steps)"
   ]
  },
  {
   "cell_type": "markdown",
   "id": "eb1d13e6",
   "metadata": {},
   "source": [
    "Fonction qui réalise M marches aléatoires et calcule la moyenne et l'écart-type des positions finales:"
   ]
  },
  {
   "cell_type": "code",
   "execution_count": 3,
   "id": "1f165b6f",
   "metadata": {},
   "outputs": [],
   "source": [
    "def monte_carlo_walks(p, N, M):\n",
    "    \"\"\"\n",
    "    Réalise M marches aléatoires et calcule les statistiques\n",
    "    \n",
    "    Paramètres:\n",
    "    p (float): probabilité de faire un pas +1 (0 <= p <= 1)\n",
    "    N (int): nombre de pas par marche\n",
    "    M (int): nombre de marches à réaliser\n",
    "    \n",
    "    Returns:\n",
    "    tuple: (moyenne des positions finales, écart-type des positions finales)\n",
    "    \"\"\"\n",
    "    # Réalise M marches aléatoires\n",
    "    final_positions = np.array([single_random_walk(p, N) for _ in range(M)])\n",
    "    \n",
    "    # Calcule et retourne moyenne et écart-type\n",
    "    return np.mean(final_positions), np.std(final_positions)"
   ]
  },
  {
   "cell_type": "markdown",
   "id": "13f48874",
   "metadata": {},
   "source": [
    "Paramètres de test:"
   ]
  },
  {
   "cell_type": "code",
   "execution_count": 4,
   "id": "613d7d21",
   "metadata": {},
   "outputs": [],
   "source": [
    "p = 0.6  # Probabilité de faire un pas +1\n",
    "N = 1000  # Nombre de pas par marche\n",
    "M_values = [10, 100, 1000, 10000]  # Différentes valeurs de M à tester"
   ]
  },
  {
   "cell_type": "markdown",
   "id": "31e08354",
   "metadata": {},
   "source": [
    "On crée un tableau pour stocker les résultats:"
   ]
  },
  {
   "cell_type": "code",
   "execution_count": 5,
   "id": "b392ac96",
   "metadata": {},
   "outputs": [
    {
     "name": "stdout",
     "output_type": "stream",
     "text": [
      "[[0. 0. 0. 0.]\n",
      " [0. 0. 0. 0.]]\n"
     ]
    }
   ],
   "source": [
    "results = np.zeros((2, len(M_values)))\n",
    "print(results)"
   ]
  },
  {
   "cell_type": "markdown",
   "id": "6b8fbae5",
   "metadata": {},
   "source": [
    "On réalise les diffférentes marches aléatoires pour les différentes valeurs de M puis on les stocke:"
   ]
  },
  {
   "cell_type": "code",
   "execution_count": 6,
   "id": "57a74166",
   "metadata": {},
   "outputs": [
    {
     "name": "stdout",
     "output_type": "stream",
     "text": [
      "[[193.4        198.42       198.878      200.4576    ]\n",
      " [ 21.46718426  30.94549402  30.99498534  31.02481913]]\n"
     ]
    }
   ],
   "source": [
    "for i,M in enumerate(M_values):\n",
    "    mean, std = monte_carlo_walks(p,N,M)\n",
    "    results[0, i] = mean  # Stocke la moyenne\n",
    "    results[1, i] = std   # Stocke l'écart-type\n",
    "print(results)"
   ]
  },
  {
   "cell_type": "markdown",
   "id": "60888d83",
   "metadata": {},
   "source": [
    "On calcule ensuite les valeurs théoriques de la moyenne du déplacement ( = N*(2p-1)) et la variance ( = N * 4p*(1-p)):"
   ]
  },
  {
   "cell_type": "code",
   "execution_count": 7,
   "id": "03e18c20",
   "metadata": {},
   "outputs": [],
   "source": [
    "theoretical_mean = N * (2*p - 1) #moyenne\n",
    "theoretical_std = np.sqrt(N * 4*p*(1-p)) #écart-type"
   ]
  },
  {
   "cell_type": "markdown",
   "id": "1d65f30d",
   "metadata": {},
   "source": [
    "Maintenant on peut afficher l'ensemble des résultats de l'exercice:"
   ]
  },
  {
   "cell_type": "code",
   "execution_count": 8,
   "id": "e5887a9c",
   "metadata": {},
   "outputs": [
    {
     "name": "stdout",
     "output_type": "stream",
     "text": [
      "Paramètres: p=0.6, N=1000\n",
      "\n",
      "Résultats expérimentaux:\n",
      "M\tMoyenne\t\tÉcart-type\n",
      "----------------------------------------\n",
      "10\t193.40\t\t21.47\n",
      "100\t198.42\t\t30.95\n",
      "1000\t198.88\t\t30.99\n",
      "10000\t200.46\t\t31.02\n",
      "\n",
      "Valeurs théoriques:\n",
      "Moyenne théorique: 200.00\n",
      "Écart-type théorique: 30.98\n"
     ]
    }
   ],
   "source": [
    "print(f\"Paramètres: p={p}, N={N}\")\n",
    "print(\"\\nRésultats expérimentaux:\") #\\n pour saut à la ligne\n",
    "print(\"M\\tMoyenne\\t\\tÉcart-type\") #\\t pour une tabulation\n",
    "print(\"-\" * 40) #on trace un trait\n",
    "for i, M in enumerate(M_values):\n",
    "    print(f\"{M}\\t{results[0,i]:.2f}\\t\\t{results[1,i]:.2f}\") #2 décimales de précision\n",
    "\n",
    "print(\"\\nValeurs théoriques:\")\n",
    "print(f\"Moyenne théorique: {theoretical_mean:.2f}\")\n",
    "print(f\"Écart-type théorique: {theoretical_std:.2f}\")"
   ]
  },
  {
   "cell_type": "markdown",
   "id": "1badd4dc",
   "metadata": {},
   "source": [
    "Et on peut aussi sauvegarder nos résultats dans un fichier .npy"
   ]
  },
  {
   "cell_type": "code",
   "execution_count": 9,
   "id": "1c48e979",
   "metadata": {},
   "outputs": [],
   "source": [
    "np.save('random_walk_results.npy', results)"
   ]
  },
  {
   "cell_type": "markdown",
   "id": "92d16f5e",
   "metadata": {},
   "source": [
    "Le fichier sera alors stocké dans \"téléchargements\" de l'ordi de l'école"
   ]
  },
  {
   "cell_type": "markdown",
   "id": "6e00278d",
   "metadata": {},
   "source": [
    "On peut également ouvrir le fichier d'un autre élève (aussi situé dans téléchargements):"
   ]
  },
  {
   "cell_type": "code",
   "execution_count": 10,
   "id": "c73c013a",
   "metadata": {},
   "outputs": [],
   "source": [
    "#other_results = np.load('fichier_du_voisin.npy')\n",
    "#print(other_results)"
   ]
  }
 ],
 "metadata": {
  "kernelspec": {
   "display_name": "Python 3 (ipykernel)",
   "language": "python",
   "name": "python3"
  },
  "language_info": {
   "codemirror_mode": {
    "name": "ipython",
    "version": 3
   },
   "file_extension": ".py",
   "mimetype": "text/x-python",
   "name": "python",
   "nbconvert_exporter": "python",
   "pygments_lexer": "ipython3",
   "version": "3.11.2"
  }
 },
 "nbformat": 4,
 "nbformat_minor": 5
}
