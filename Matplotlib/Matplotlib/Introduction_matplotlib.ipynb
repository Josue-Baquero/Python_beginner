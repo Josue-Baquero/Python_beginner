{
 "cells": [
  {
   "cell_type": "markdown",
   "metadata": {},
   "source": [
    "# Matplotlib"
   ]
  },
  {
   "cell_type": "markdown",
   "metadata": {},
   "source": [
    "L'analyse de données nécessite de disposer d'outils permettant de représenter au mieux les informations dont on dispose. \n",
    "La librairie Matplotlib (https://matplotlib.org) est une librairie python qui permet de réaliser des représentations graphiques 2D. Beaucoup de documentation existe https://www.tutorialspoint.com/matplotlib/ et pour une galerie :https://matplotlib.org/gallery.html"
   ]
  },
  {
   "cell_type": "markdown",
   "metadata": {},
   "source": [
    "**Chargement des librairies**"
   ]
  },
  {
   "cell_type": "code",
   "execution_count": null,
   "metadata": {},
   "outputs": [],
   "source": [
    "import matplotlib.pyplot\n",
    "import numpy"
   ]
  },
  {
   "cell_type": "markdown",
   "metadata": {},
   "source": [
    "### Tracé d'une courbe"
   ]
  },
  {
   "cell_type": "code",
   "execution_count": null,
   "metadata": {},
   "outputs": [],
   "source": [
    "x = numpy.linspace(0,99,100)\n",
    "print(x)\n",
    "matplotlib.pyplot.plot(x,x)"
   ]
  },
  {
   "cell_type": "markdown",
   "metadata": {},
   "source": [
    "**Attention** Dans python il faudrait rajouter ***matplotlib.pyplot.show()*** pour que le graphique s'affiche."
   ]
  },
  {
   "cell_type": "markdown",
   "metadata": {},
   "source": [
    "**Introduction de titres et labels**"
   ]
  },
  {
   "cell_type": "code",
   "execution_count": null,
   "metadata": {},
   "outputs": [],
   "source": [
    "x = numpy.linspace(0,99,100)\n",
    "print(x)\n",
    "matplotlib.pyplot.plot(x,x)\n",
    "matplotlib.pyplot.title(\"Courbe\")\n",
    "matplotlib.pyplot.xlabel(\"abscisses\")\n",
    "matplotlib.pyplot.ylabel(\"ordonnées\")"
   ]
  },
  {
   "cell_type": "markdown",
   "metadata": {},
   "source": [
    "**Remarque**: Pour rajouter des éléments sur le même graphique, il faut relancer l'ensemble des commandes: essayez:"
   ]
  },
  {
   "cell_type": "code",
   "execution_count": null,
   "metadata": {},
   "outputs": [],
   "source": [
    "matplotlib.pyplot.ylabel(\"nouveau\")"
   ]
  },
  {
   "cell_type": "code",
   "execution_count": null,
   "metadata": {},
   "outputs": [],
   "source": [
    "matplotlib.pyplot.plot(x,x)\n",
    "matplotlib.pyplot.title(\"Courbe\")\n",
    "matplotlib.pyplot.xlabel(\"abscisses\")\n",
    "matplotlib.pyplot.ylabel(\"nouveau\")"
   ]
  },
  {
   "cell_type": "markdown",
   "metadata": {},
   "source": [
    "**REMARQUE: Affichage interactif**: Il est possible avec Jupyter (pour Jupyter seulement, ne fonctionne pas pour pycharm et python, ni avec google colab) et il permet de faire évoluer le graphique à chaque nouvelle instruction et de manipuler le graphe de façon interactive pour zoomer par exemple:"
   ]
  },
  {
   "cell_type": "code",
   "execution_count": null,
   "metadata": {},
   "outputs": [],
   "source": [
    "%matplotlib notebook"
   ]
  },
  {
   "cell_type": "code",
   "execution_count": null,
   "metadata": {},
   "outputs": [],
   "source": [
    "x = numpy.linspace(0,99,100)\n",
    "print(x)\n",
    "matplotlib.pyplot.plot(x,x)\n",
    "matplotlib.pyplot.title(\"Courbe\")\n",
    "matplotlib.pyplot.xlabel(\"abscisses\")\n",
    "matplotlib.pyplot.ylabel(\"ordonnées\")"
   ]
  },
  {
   "cell_type": "code",
   "execution_count": null,
   "metadata": {},
   "outputs": [],
   "source": [
    "matplotlib.pyplot.title(\"Nouveau Titre\")"
   ]
  },
  {
   "cell_type": "markdown",
   "metadata": {},
   "source": [
    "**Remarque:** Si on trace une nouvelle courbe, celle-ci se superposera à la précédente, il n'y aura pas de nouveau graphique. "
   ]
  },
  {
   "cell_type": "code",
   "execution_count": null,
   "metadata": {},
   "outputs": [],
   "source": [
    "x = numpy.linspace(0, 2*numpy.pi, 30)\n",
    "y1 = numpy.cos(x)\n",
    "matplotlib.pyplot.plot(x, y1)"
   ]
  },
  {
   "cell_type": "markdown",
   "metadata": {},
   "source": [
    "Pour sortir du mode interactif précédent, cliquer sur le bouton marche/arrêt en haut à droite de la figure précédente. "
   ]
  },
  {
   "cell_type": "code",
   "execution_count": null,
   "metadata": {},
   "outputs": [],
   "source": [
    "x = numpy.linspace(0, 2*numpy.pi, 30)\n",
    "y1 = numpy.cos(x)\n",
    "matplotlib.pyplot.plot(x, y1)"
   ]
  },
  {
   "cell_type": "markdown",
   "metadata": {},
   "source": [
    "Une fois le mode interactif lancé, toutes les figures qui vont suivre resteront dans ce mode. Si vous souhaitez en sortir relancez le noyau/Kernel et relancez le chargement des librairies **numpy** et **matplotlib**, puis lancez les commandes suivantes:"
   ]
  },
  {
   "cell_type": "markdown",
   "metadata": {},
   "source": [
    "**Introduction d'une légende et de limites d'axes**"
   ]
  },
  {
   "cell_type": "code",
   "execution_count": null,
   "metadata": {},
   "outputs": [],
   "source": [
    "import matplotlib.pyplot\n",
    "import numpy\n",
    "x = numpy.linspace(0,99,100)\n",
    "matplotlib.pyplot.plot(x,x)\n",
    "matplotlib.pyplot.title(\"Courbe\")\n",
    "matplotlib.pyplot.xlabel(\"abscisses\")\n",
    "matplotlib.pyplot.ylabel(\"ordonnées\")\n",
    "matplotlib.pyplot.legend(\"x\")\n",
    "matplotlib.pyplot.xlim(-100, 100)\n",
    "matplotlib.pyplot.ylim(-100, 100)"
   ]
  },
  {
   "cell_type": "markdown",
   "metadata": {},
   "source": [
    "**Superposition de plusieurs courbes**"
   ]
  },
  {
   "cell_type": "code",
   "execution_count": null,
   "metadata": {},
   "outputs": [],
   "source": [
    "x = numpy.linspace(0, 2*numpy.pi, 30)\n",
    "y1 = numpy.cos(x)\n",
    "y2 = numpy.sin(x)\n",
    "matplotlib.pyplot.plot(x, y1)\n",
    "matplotlib.pyplot.plot(x, y2)"
   ]
  },
  {
   "cell_type": "markdown",
   "metadata": {},
   "source": [
    "**Style de courbes**"
   ]
  },
  {
   "cell_type": "code",
   "execution_count": null,
   "metadata": {},
   "outputs": [],
   "source": [
    "x = numpy.linspace(0, 2*numpy.pi, 30)\n",
    "y1 = numpy.cos(x)\n",
    "y2 = numpy.sin(x)\n",
    "matplotlib.pyplot.plot(x, y1, \"r--\",linewidth=4, label=\"cos(x)\")\n",
    "matplotlib.pyplot.plot(x, y2, \"b:o\", label=\"sin(x)\")\n",
    "matplotlib.pyplot.legend()\n"
   ]
  },
  {
   "cell_type": "markdown",
   "metadata": {},
   "source": [
    "### Multiples figures"
   ]
  },
  {
   "cell_type": "markdown",
   "metadata": {},
   "source": [
    "Il est possible de représenter plusieurs figures sur une même fenêtre de visualisation:"
   ]
  },
  {
   "cell_type": "code",
   "execution_count": null,
   "metadata": {},
   "outputs": [],
   "source": [
    "x = numpy.linspace(0, 2*numpy.pi, 30)\n",
    "fig = matplotlib.pyplot.figure()\n",
    "\n",
    "ax1 = fig.add_subplot(121)\n",
    "matplotlib.pyplot.xscale(\"log\")\n",
    "ax2 = fig.add_subplot(122)\n",
    "matplotlib.pyplot.xscale(\"log\")\n",
    "y1 = numpy.cos(x)\n",
    "y2 = numpy.sin(x)\n",
    "ax1.plot(x, y1, \"g.--\",linewidth=1)\n",
    "\n",
    "ax1.set_title(\"Cosinus\")\n",
    "ax1.set_xlabel(\"angle en radian\")\n",
    "ax1.set_ylabel(\"Cosinus(x)\")\n",
    "\n",
    "ax2.plot(x, y2, \"m:x\")\n",
    "ax2.set_title(\"Sinus\",color = 'b')\n",
    "ax2.set_xlabel(\"angle en radian\")\n",
    "ax2.set_ylabel(\"Sinus(x)\")\n"
   ]
  },
  {
   "cell_type": "code",
   "execution_count": null,
   "metadata": {},
   "outputs": [],
   "source": [
    "x = numpy.linspace(0, 2*numpy.pi, 30)\n",
    "fig = matplotlib.pyplot.figure()\n",
    "ax1 = fig.add_subplot(121)\n",
    "ax2 = fig.add_subplot(122)\n",
    "y1 = numpy.cos(x)\n",
    "y2 = numpy.sin(x)\n",
    "ax1.plot(x, y1, \"g.--\",linewidth=1)\n",
    "ax1.set_title(\"Cosinus\")\n",
    "ax1.set_xlabel(\"angle en radian\")\n",
    "ax1.set_ylabel(\"Cosinus(x)\")\n",
    "ax2.plot(x, y2, \"m:x\")\n",
    "\n",
    "ax2.set_title(\"Sinus\",color = 'b')\n",
    "ax2.set_xlabel(\"angle en radian\")\n"
   ]
  },
  {
   "cell_type": "markdown",
   "metadata": {},
   "source": [
    "### Echelle logarithmique en y"
   ]
  },
  {
   "cell_type": "code",
   "execution_count": null,
   "metadata": {},
   "outputs": [],
   "source": [
    "x = numpy.arange(0, 5, 0.25)\n",
    "matplotlib.pyplot.plot(x, x**2, x, x**3)\n",
    "matplotlib.pyplot.grid(True,which=\"both\", linestyle='--')\n",
    "matplotlib.pyplot.yscale(\"log\")"
   ]
  },
  {
   "cell_type": "markdown",
   "metadata": {},
   "source": [
    "### Modification des Légendes avec nom dépendant de variables"
   ]
  },
  {
   "cell_type": "code",
   "execution_count": null,
   "metadata": {},
   "outputs": [],
   "source": [
    "def gaussienne(x, m):\n",
    "    y = numpy.exp(-(x - m)**2)\n",
    "    return y"
   ]
  },
  {
   "cell_type": "code",
   "execution_count": null,
   "metadata": {},
   "outputs": [],
   "source": [
    "x = numpy.linspace(0, 20, 100)\n",
    "m1 = 3 \n",
    "m2 = 6\n",
    "y1 = gaussienne(x,m1)\n",
    "y2 = gaussienne(x,m2)\n",
    "matplotlib.pyplot.plot(x, y1, \"g.--\",linewidth=1)\n",
    "matplotlib.pyplot.plot(x, y2, \"r.--\",linewidth=1)\n",
    "matplotlib.pyplot.legend([\"m = {}\" .format(m1) ,\"m = {} \".format(m2) ])"
   ]
  },
  {
   "cell_type": "markdown",
   "metadata": {},
   "source": [
    "### Zoom "
   ]
  },
  {
   "cell_type": "code",
   "execution_count": null,
   "metadata": {},
   "outputs": [],
   "source": [
    "x = numpy.linspace(0, 2*numpy.pi, 30)\n",
    "y1 = numpy.cos(x)\n",
    "zoom_x=0\n",
    "zoom_y=-0.25\n",
    "matplotlib.pyplot.plot(x, y1, \"g.--\",linewidth=1)\n",
    "matplotlib.pyplot.margins(x=zoom_x, y=zoom_y)\n",
    "matplotlib.pyplot.title(\"Cosinus zoomé axe y \")\n",
    "matplotlib.pyplot.legend([\"Zoom_y = {}\" .format(zoom_y) ])"
   ]
  },
  {
   "cell_type": "code",
   "execution_count": null,
   "metadata": {},
   "outputs": [],
   "source": [
    "x = numpy.linspace(0, 2*numpy.pi, 30)\n",
    "y1 = numpy.cos(x)\n",
    "matplotlib.pyplot.plot(x, y1, \"g.--\",linewidth=1)\n",
    "matplotlib.pyplot.margins(2, 0)\n",
    "matplotlib.pyplot.title(\"Cosinus dézoomé axe x \")"
   ]
  },
  {
   "cell_type": "markdown",
   "metadata": {},
   "source": [
    "### Echelles y différentes"
   ]
  },
  {
   "cell_type": "code",
   "execution_count": null,
   "metadata": {},
   "outputs": [],
   "source": [
    "x = numpy.linspace(0, 2*numpy.pi, 30)\n",
    "y1 = numpy.cos(x)\n",
    "y2 = numpy.random.random((numpy.size(x)))\n",
    "ax2 = matplotlib.pyplot.gca().twinx()\n",
    "matplotlib.pyplot.plot(x, y1, \"g.--\",linewidth=1)\n",
    "ax2.plot(x, y2, \"r.--\",linewidth=1)\n",
    "\n"
   ]
  },
  {
   "cell_type": "markdown",
   "metadata": {},
   "source": [
    "### Types de représentations"
   ]
  },
  {
   "cell_type": "markdown",
   "metadata": {},
   "source": [
    "**Représentation de chaque point par une barre verticale**"
   ]
  },
  {
   "cell_type": "code",
   "execution_count": null,
   "metadata": {},
   "outputs": [],
   "source": [
    "x = numpy.linspace(0, 2*numpy.pi, 30)\n",
    "y1 = numpy.cos(x)\n",
    "matplotlib.pyplot.bar(x,y1)"
   ]
  },
  {
   "cell_type": "markdown",
   "metadata": {},
   "source": [
    "**Représentation de chaque point par une barre horizontale**"
   ]
  },
  {
   "cell_type": "code",
   "execution_count": null,
   "metadata": {},
   "outputs": [],
   "source": [
    "x = numpy.linspace(0, 2*numpy.pi, 30)\n",
    "y1 = numpy.cos(x)\n",
    "matplotlib.pyplot.barh(x,y1)"
   ]
  },
  {
   "cell_type": "markdown",
   "metadata": {},
   "source": [
    "**Autres représentations**"
   ]
  },
  {
   "cell_type": "code",
   "execution_count": null,
   "metadata": {},
   "outputs": [],
   "source": [
    "x = numpy.linspace(0, 2*numpy.pi, 30)\n",
    "y1 = numpy.cos(x)\n",
    "fig = matplotlib.pyplot.figure()\n",
    "ax1 = fig.add_subplot(231)\n",
    "ax2 = fig.add_subplot(232)\n",
    "ax3 = fig.add_subplot(233)\n",
    "ax4 = fig.add_subplot(234)\n",
    "ax5 = fig.add_subplot(235)\n",
    "ax6 = fig.add_subplot(236)\n",
    "ax1.scatter(x,y1, color ='red', marker = 'X')\n",
    "ax2.scatter(x,y1, color ='blue', marker = '^')\n",
    "ax3.scatter(x,y1, color ='navy', marker = 's')\n",
    "ax4.scatter(x,y1, color ='black', marker = 'D')\n",
    "ax5.scatter(x,y1, color ='skyblue', marker = '+')\n",
    "ax6.scatter(x,y1, color ='magenta', marker = '*')"
   ]
  },
  {
   "cell_type": "markdown",
   "metadata": {},
   "source": [
    "**Camemberts**"
   ]
  },
  {
   "cell_type": "code",
   "execution_count": null,
   "metadata": {},
   "outputs": [],
   "source": [
    "x = [1, 2, 3, 4, 10]\n",
    "matplotlib.pyplot.pie(x, labels = ['A', 'B', 'C', 'D', 'E'])"
   ]
  },
  {
   "cell_type": "markdown",
   "metadata": {},
   "source": [
    "**Histogrammes**"
   ]
  },
  {
   "cell_type": "code",
   "execution_count": null,
   "metadata": {},
   "outputs": [],
   "source": [
    "y = numpy.random.randn((1000))\n",
    "fig = matplotlib.pyplot.figure()\n",
    "ax1 = fig.add_subplot(121)\n",
    "ax2 = fig.add_subplot(122)\n",
    "ax1.plot(y, \"k.\",linewidth=1)\n",
    "ax1.set_ylim(-10, 10)\n",
    "ax1.set_title('Echantillons')\n",
    "ax2.hist(y, bins = 50, color ='y')\n",
    "ax2.set_title('Histogramme')"
   ]
  },
  {
   "cell_type": "markdown",
   "metadata": {},
   "source": [
    "### Lignes de niveaux"
   ]
  },
  {
   "cell_type": "code",
   "execution_count": null,
   "metadata": {},
   "outputs": [],
   "source": [
    "x = numpy.linspace(0, 5, 50)\n",
    "y = numpy.linspace(0, 5, 40)\n",
    "def f(x, y):\n",
    "    return numpy.sin(x) ** 10 + numpy.cos(10 + y * x) * numpy.cos(x)\n",
    "X, Y = numpy.meshgrid(x, y)\n",
    "Z = f(X, Y)\n",
    "\n",
    "matplotlib.pyplot.contour(X, Y, Z, colors='black');"
   ]
  },
  {
   "cell_type": "code",
   "execution_count": null,
   "metadata": {},
   "outputs": [],
   "source": [
    "matplotlib.pyplot.contour(X, Y, Z, 20, cmap = 'RdGy');"
   ]
  },
  {
   "cell_type": "code",
   "execution_count": null,
   "metadata": {},
   "outputs": [],
   "source": [
    "matplotlib.pyplot.contourf(X, Y, Z, 20, cmap = 'RdGy');\n",
    "matplotlib.pyplot.colorbar();"
   ]
  },
  {
   "cell_type": "markdown",
   "metadata": {},
   "source": [
    "### Représentation couleur"
   ]
  },
  {
   "cell_type": "code",
   "execution_count": null,
   "metadata": {},
   "outputs": [],
   "source": [
    "matplotlib.pyplot.pcolormesh(X, Y, Z, shading=\"gouraud\")\n",
    "matplotlib.pyplot.colorbar()\n"
   ]
  },
  {
   "cell_type": "markdown",
   "metadata": {},
   "source": [
    "### Barres d'erreur ###"
   ]
  },
  {
   "cell_type": "code",
   "execution_count": null,
   "metadata": {},
   "outputs": [],
   "source": [
    "x = numpy.linspace(0, 2*numpy.pi, 30)\n",
    "y = numpy.cos(x)\n",
    "erreur = numpy.random.randn((30))\n",
    "matplotlib.pyplot.plot(x, y, 'blue')\n",
    "matplotlib.pyplot.errorbar(x, y, yerr = erreur, capsize = 5, ecolor = 'red')"
   ]
  },
  {
   "cell_type": "markdown",
   "metadata": {},
   "source": [
    "### Sauvegarder des figures dans un fichier:\n",
    "Les formats supportés sont png, pdf, eps, svg, jpg."
   ]
  },
  {
   "cell_type": "code",
   "execution_count": null,
   "metadata": {},
   "outputs": [],
   "source": [
    "y = numpy.random.randn((1000))\n",
    "fig = matplotlib.pyplot.figure(figsize=(10,3))\n",
    "fig.suptitle(\"Mes figures\")\n",
    "ax1 = fig.add_subplot(121)\n",
    "ax2 = fig.add_subplot(122)\n",
    "ax1.plot(y, \"k.\",linewidth=1)\n",
    "ax1.set_ylim(-10, 10)\n",
    "ax1.set_title('Echantillons')\n",
    "ax2.hist(y, bins = 50, color ='y')\n",
    "ax2.set_title('Histogramme')\n",
    "matplotlib.pyplot.savefig('image.jpg'); "
   ]
  },
  {
   "cell_type": "markdown",
   "metadata": {},
   "source": [
    "## Visualisation d'images"
   ]
  },
  {
   "cell_type": "markdown",
   "metadata": {},
   "source": [
    "**Lecture de l'image**"
   ]
  },
  {
   "cell_type": "markdown",
   "metadata": {},
   "source": [
    "#### (Pour Colab UNIQUEMENT)\n",
    "Pour ceux qui travaillent avec colab, il faudra taper pour charger l'image:\n",
    "\n",
    "from google.colab import files\n",
    "uploaded = files.upload()\n"
   ]
  },
  {
   "cell_type": "code",
   "execution_count": null,
   "metadata": {},
   "outputs": [],
   "source": [
    "im = matplotlib.pyplot.imread('dsc04385.jpg')\n",
    "print(numpy.shape(im))\n",
    "print(numpy.shape(im[:,:,0]))"
   ]
  },
  {
   "cell_type": "markdown",
   "metadata": {},
   "source": [
    "**Visualisation de l'image**"
   ]
  },
  {
   "cell_type": "code",
   "execution_count": null,
   "metadata": {},
   "outputs": [],
   "source": [
    "matplotlib.pyplot.imshow(im)"
   ]
  },
  {
   "cell_type": "code",
   "execution_count": null,
   "metadata": {},
   "outputs": [],
   "source": []
  },
  {
   "cell_type": "markdown",
   "metadata": {},
   "source": [
    "La librairie **matplotlib** n'est pas adaptée aux images. Nous utiliserons par exemple **scikit-image** pour manipuler les images.\n",
    "Elle permet de fournir des outils basiques pour des représentations 2D. Pour aller plus loin on utilisera **seaborn** (dans les TP suivants)."
   ]
  },
  {
   "cell_type": "markdown",
   "metadata": {},
   "source": [
    "# Exercices"
   ]
  },
  {
   "cell_type": "markdown",
   "metadata": {},
   "source": [
    "## Exercice 1: Marche aléatoire 1D\n",
    "Représentez pour un M, p et N fixés le déplacement de la marche aléatoire 1D que vous avez implémentée lors de la manipulation précédente ainsi qu'une figure représentant les moyennes et écart-types obtenus en fonction de M et les valeurs théoriques attendues. Vous choisirez la représentation qui vous paraît être la plus appropriée (couleur, titre, légendes doivent être telles que la courbe doit se suffise à elle-même)."
   ]
  },
  {
   "cell_type": "markdown",
   "metadata": {},
   "source": [
    "## Exercice 2: Marche aléatoire 2D\n",
    "Généralisez la marche aléatoire 1D au cas 2D et représentez son déplacement. Vous choisirez la représentation qui vous paraît être la plus appropriée (couleur, titre, légendes doivent être telles que la courbe doit se suffise à elle-même).\n",
    "\n",
    "Attention le déplacement doit se faire perpendiculairement aux axes x et y."
   ]
  },
  {
   "cell_type": "markdown",
   "metadata": {},
   "source": [
    "## Exercice 3: Fourmi de Langton\n",
    "Une fourmi se déplace sur une grille. Au départ toutes les cases sont blanches et la fourmi est positionnée au centre de la grille tête vers le haut.\n",
    "Si la fourmi est sur une case blanche, elle effectue une rotation  d'un quart de tour vers la gauche, si elle est sur une case noire elle effectue une rotation d' un quart de tour vers la droite. La fourmi inverse la couleur de la case sur laquelle elle se trouve puis avance d'une case dans la direction de son orientation. Programmez le déplacement de la fourmi et le représenter. \n",
    "Observez le comportement de sa trajectoire lorsque le nombre de dépacement est supérieur à 10 000."
   ]
  }
 ],
 "metadata": {
  "kernelspec": {
   "display_name": "Python 3",
   "language": "python",
   "name": "python3"
  },
  "language_info": {
   "codemirror_mode": {
    "name": "ipython",
    "version": 3
   },
   "file_extension": ".py",
   "mimetype": "text/x-python",
   "name": "python",
   "nbconvert_exporter": "python",
   "pygments_lexer": "ipython3",
   "version": "3.8.8"
  }
 },
 "nbformat": 4,
 "nbformat_minor": 2
}
